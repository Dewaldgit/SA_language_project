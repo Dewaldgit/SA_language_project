{
 "cells": [
  {
   "cell_type": "code",
   "execution_count": 1,
   "id": "9422d739",
   "metadata": {
    "execution": {
     "iopub.execute_input": "2021-09-24T13:35:55.262818Z",
     "iopub.status.busy": "2021-09-24T13:35:55.259742Z",
     "iopub.status.idle": "2021-09-24T13:35:56.465130Z",
     "shell.execute_reply": "2021-09-24T13:35:56.464270Z",
     "shell.execute_reply.started": "2021-09-24T13:25:06.885108Z"
    },
    "papermill": {
     "duration": 1.26576,
     "end_time": "2021-09-24T13:35:56.465302",
     "exception": false,
     "start_time": "2021-09-24T13:35:55.199542",
     "status": "completed"
    },
    "tags": []
   },
   "outputs": [],
   "source": [
    "import pandas as pd\n",
    "import numpy as np\n",
    "import re\n",
    "import seaborn as sns\n",
    "import matplotlib.pyplot as plt\n",
    "import warnings\n",
    "warnings.simplefilter(\"ignore\")\n",
    "from sklearn.preprocessing import LabelEncoder\n",
    "from sklearn.feature_extraction.text import CountVectorizer\n",
    "from sklearn.model_selection import train_test_split\n",
    "from sklearn.naive_bayes import MultinomialNB\n",
    "from sklearn import metrics"
   ]
  },
  {
   "cell_type": "markdown",
   "id": "610adbf2",
   "metadata": {
    "papermill": {
     "duration": 0.034667,
     "end_time": "2021-09-24T13:35:56.536795",
     "exception": false,
     "start_time": "2021-09-24T13:35:56.502128",
     "status": "completed"
    },
    "tags": []
   },
   "source": [
    "## Data "
   ]
  },
  {
   "cell_type": "markdown",
   "id": "c5e69f3c",
   "metadata": {
    "papermill": {
     "duration": 0.034482,
     "end_time": "2021-09-24T13:35:56.606263",
     "exception": false,
     "start_time": "2021-09-24T13:35:56.571781",
     "status": "completed"
    },
    "tags": []
   },
   "source": [
    "#### 1) Loading Data"
   ]
  },
  {
   "cell_type": "code",
   "execution_count": 2,
   "id": "c04bbe23",
   "metadata": {
    "execution": {
     "iopub.execute_input": "2021-09-24T13:35:56.683362Z",
     "iopub.status.busy": "2021-09-24T13:35:56.682643Z",
     "iopub.status.idle": "2021-09-24T13:35:57.084811Z",
     "shell.execute_reply": "2021-09-24T13:35:57.084077Z",
     "shell.execute_reply.started": "2021-09-24T13:25:08.056666Z"
    },
    "papermill": {
     "duration": 0.443899,
     "end_time": "2021-09-24T13:35:57.084957",
     "exception": false,
     "start_time": "2021-09-24T13:35:56.641058",
     "status": "completed"
    },
    "tags": []
   },
   "outputs": [],
   "source": [
    "train = pd.read_csv('../input/data-sa-language/train_set.csv') \n",
    "test = pd.read_csv('../input/data-sa-language/test_set.csv') \n",
    "sample_submission = pd.read_csv('../input/data-sa-language/sample_submission (1).csv') "
   ]
  },
  {
   "cell_type": "code",
   "execution_count": 3,
   "id": "85d56217",
   "metadata": {
    "execution": {
     "iopub.execute_input": "2021-09-24T13:35:57.165733Z",
     "iopub.status.busy": "2021-09-24T13:35:57.164965Z",
     "iopub.status.idle": "2021-09-24T13:35:57.180232Z",
     "shell.execute_reply": "2021-09-24T13:35:57.180759Z",
     "shell.execute_reply.started": "2021-09-24T13:25:08.393607Z"
    },
    "papermill": {
     "duration": 0.060418,
     "end_time": "2021-09-24T13:35:57.180936",
     "exception": false,
     "start_time": "2021-09-24T13:35:57.120518",
     "status": "completed"
    },
    "tags": []
   },
   "outputs": [
    {
     "data": {
      "text/html": [
       "<div>\n",
       "<style scoped>\n",
       "    .dataframe tbody tr th:only-of-type {\n",
       "        vertical-align: middle;\n",
       "    }\n",
       "\n",
       "    .dataframe tbody tr th {\n",
       "        vertical-align: top;\n",
       "    }\n",
       "\n",
       "    .dataframe thead th {\n",
       "        text-align: right;\n",
       "    }\n",
       "</style>\n",
       "<table border=\"1\" class=\"dataframe\">\n",
       "  <thead>\n",
       "    <tr style=\"text-align: right;\">\n",
       "      <th></th>\n",
       "      <th>lang_id</th>\n",
       "      <th>text</th>\n",
       "    </tr>\n",
       "  </thead>\n",
       "  <tbody>\n",
       "    <tr>\n",
       "      <th>0</th>\n",
       "      <td>xho</td>\n",
       "      <td>umgaqo-siseko wenza amalungiselelo kumaziko ax...</td>\n",
       "    </tr>\n",
       "    <tr>\n",
       "      <th>1</th>\n",
       "      <td>xho</td>\n",
       "      <td>i-dha iya kuba nobulumko bokubeka umsebenzi na...</td>\n",
       "    </tr>\n",
       "    <tr>\n",
       "      <th>2</th>\n",
       "      <td>eng</td>\n",
       "      <td>the province of kwazulu-natal department of tr...</td>\n",
       "    </tr>\n",
       "    <tr>\n",
       "      <th>3</th>\n",
       "      <td>nso</td>\n",
       "      <td>o netefatša gore o ba file dilo ka moka tše le...</td>\n",
       "    </tr>\n",
       "    <tr>\n",
       "      <th>4</th>\n",
       "      <td>ven</td>\n",
       "      <td>khomishini ya ndinganyiso ya mbeu yo ewa maana...</td>\n",
       "    </tr>\n",
       "  </tbody>\n",
       "</table>\n",
       "</div>"
      ],
      "text/plain": [
       "  lang_id                                               text\n",
       "0     xho  umgaqo-siseko wenza amalungiselelo kumaziko ax...\n",
       "1     xho  i-dha iya kuba nobulumko bokubeka umsebenzi na...\n",
       "2     eng  the province of kwazulu-natal department of tr...\n",
       "3     nso  o netefatša gore o ba file dilo ka moka tše le...\n",
       "4     ven  khomishini ya ndinganyiso ya mbeu yo ewa maana..."
      ]
     },
     "execution_count": 3,
     "metadata": {},
     "output_type": "execute_result"
    }
   ],
   "source": [
    "train.head()"
   ]
  },
  {
   "cell_type": "code",
   "execution_count": 4,
   "id": "cbdbbf7e",
   "metadata": {
    "execution": {
     "iopub.execute_input": "2021-09-24T13:35:57.300861Z",
     "iopub.status.busy": "2021-09-24T13:35:57.299579Z",
     "iopub.status.idle": "2021-09-24T13:35:57.304474Z",
     "shell.execute_reply": "2021-09-24T13:35:57.301876Z",
     "shell.execute_reply.started": "2021-09-24T13:25:08.418476Z"
    },
    "papermill": {
     "duration": 0.073876,
     "end_time": "2021-09-24T13:35:57.304645",
     "exception": false,
     "start_time": "2021-09-24T13:35:57.230769",
     "status": "completed"
    },
    "tags": []
   },
   "outputs": [
    {
     "data": {
      "text/plain": [
       "xho    3000\n",
       "eng    3000\n",
       "nso    3000\n",
       "ven    3000\n",
       "tsn    3000\n",
       "nbl    3000\n",
       "zul    3000\n",
       "ssw    3000\n",
       "tso    3000\n",
       "sot    3000\n",
       "afr    3000\n",
       "Name: lang_id, dtype: int64"
      ]
     },
     "execution_count": 4,
     "metadata": {},
     "output_type": "execute_result"
    }
   ],
   "source": [
    "train['lang_id'].value_counts()"
   ]
  },
  {
   "cell_type": "markdown",
   "id": "f2f904e5",
   "metadata": {
    "papermill": {
     "duration": 0.035788,
     "end_time": "2021-09-24T13:35:57.385977",
     "exception": false,
     "start_time": "2021-09-24T13:35:57.350189",
     "status": "completed"
    },
    "tags": []
   },
   "source": [
    "#### 2) Data Seperation (Predictors, Target) for the Training Set"
   ]
  },
  {
   "cell_type": "code",
   "execution_count": 5,
   "id": "152248ed",
   "metadata": {
    "execution": {
     "iopub.execute_input": "2021-09-24T13:35:57.466139Z",
     "iopub.status.busy": "2021-09-24T13:35:57.464621Z",
     "iopub.status.idle": "2021-09-24T13:35:57.470224Z",
     "shell.execute_reply": "2021-09-24T13:35:57.470724Z",
     "shell.execute_reply.started": "2021-09-24T13:25:08.438505Z"
    },
    "papermill": {
     "duration": 0.047877,
     "end_time": "2021-09-24T13:35:57.470907",
     "exception": false,
     "start_time": "2021-09-24T13:35:57.423030",
     "status": "completed"
    },
    "tags": []
   },
   "outputs": [],
   "source": [
    "X = train['text']\n",
    "y = train['lang_id']"
   ]
  },
  {
   "cell_type": "markdown",
   "id": "e66ec62b",
   "metadata": {
    "papermill": {
     "duration": 0.03726,
     "end_time": "2021-09-24T13:35:57.546502",
     "exception": false,
     "start_time": "2021-09-24T13:35:57.509242",
     "status": "completed"
    },
    "tags": []
   },
   "source": [
    "#### 3) Label Encode the Target "
   ]
  },
  {
   "cell_type": "code",
   "execution_count": 6,
   "id": "16dd585a",
   "metadata": {
    "execution": {
     "iopub.execute_input": "2021-09-24T13:35:57.629296Z",
     "iopub.status.busy": "2021-09-24T13:35:57.628584Z",
     "iopub.status.idle": "2021-09-24T13:35:57.639916Z",
     "shell.execute_reply": "2021-09-24T13:35:57.639169Z",
     "shell.execute_reply.started": "2021-09-24T13:25:08.444789Z"
    },
    "papermill": {
     "duration": 0.056679,
     "end_time": "2021-09-24T13:35:57.640067",
     "exception": false,
     "start_time": "2021-09-24T13:35:57.583388",
     "status": "completed"
    },
    "tags": []
   },
   "outputs": [],
   "source": [
    "la = LabelEncoder()\n",
    "y = la.fit_transform(y)"
   ]
  },
  {
   "cell_type": "markdown",
   "id": "55a2430e",
   "metadata": {
    "papermill": {
     "duration": 0.03613,
     "end_time": "2021-09-24T13:35:57.715251",
     "exception": false,
     "start_time": "2021-09-24T13:35:57.679121",
     "status": "completed"
    },
    "tags": []
   },
   "source": [
    "## Preprocessing of the Text "
   ]
  },
  {
   "cell_type": "markdown",
   "id": "ef5a01a3",
   "metadata": {
    "papermill": {
     "duration": 0.035822,
     "end_time": "2021-09-24T13:35:57.787326",
     "exception": false,
     "start_time": "2021-09-24T13:35:57.751504",
     "status": "completed"
    },
    "tags": []
   },
   "source": [
    "#### 1) Cleaning"
   ]
  },
  {
   "cell_type": "code",
   "execution_count": 7,
   "id": "0cd0190b",
   "metadata": {
    "execution": {
     "iopub.execute_input": "2021-09-24T13:35:57.862836Z",
     "iopub.status.busy": "2021-09-24T13:35:57.862102Z",
     "iopub.status.idle": "2021-09-24T13:35:58.323743Z",
     "shell.execute_reply": "2021-09-24T13:35:58.324269Z",
     "shell.execute_reply.started": "2021-09-24T13:25:08.466285Z"
    },
    "papermill": {
     "duration": 0.501322,
     "end_time": "2021-09-24T13:35:58.324481",
     "exception": false,
     "start_time": "2021-09-24T13:35:57.823159",
     "status": "completed"
    },
    "tags": []
   },
   "outputs": [],
   "source": [
    "data_list = []\n",
    "\n",
    "for text in X:\n",
    "       # symbols + number removal\n",
    "        text = re.sub(r'[!@#$(),n\"%^*?:;~`0-9]', ' ', text)\n",
    "        text = re.sub(r'[[]]', ' ', text)\n",
    "        # lowercase\n",
    "        text = text.lower()\n",
    "        # appending to data_list\n",
    "        data_list.append(text)"
   ]
  },
  {
   "cell_type": "code",
   "execution_count": 8,
   "id": "8df661dc",
   "metadata": {
    "execution": {
     "iopub.execute_input": "2021-09-24T13:35:58.401072Z",
     "iopub.status.busy": "2021-09-24T13:35:58.400337Z",
     "iopub.status.idle": "2021-09-24T13:35:58.405441Z",
     "shell.execute_reply": "2021-09-24T13:35:58.405943Z",
     "shell.execute_reply.started": "2021-09-24T13:25:08.970889Z"
    },
    "papermill": {
     "duration": 0.044366,
     "end_time": "2021-09-24T13:35:58.406112",
     "exception": false,
     "start_time": "2021-09-24T13:35:58.361746",
     "status": "completed"
    },
    "tags": []
   },
   "outputs": [
    {
     "data": {
      "text/plain": [
       "['umgaqo-siseko we za amalu giselelo kumaziko axhasa ulawulo lwesi i zi ku ye  okuthath i xaxheba kwabafazi ezi ziquka phakathi kwezi ye zazo ikomisho i yokuli ga a  gokwesi i ikomisho i yamalu gelo olu tu lomza tsi afrika',\n",
       " 'i-dha iya kuba  obulumko bokubeka umsebe zi  aphi  a kwisebe  gokusekwe kwiimfu o zokusebe za zalo emva kokubo a a  omsebe zi ku ye oka ye ima ya o yakhe ukuba ula dulo lom tu o jalo alufa eleka ga i-dha mayibize u cedo olufa elekileyo elu gelwe i layo']"
      ]
     },
     "execution_count": 8,
     "metadata": {},
     "output_type": "execute_result"
    }
   ],
   "source": [
    "data_list[0:2]"
   ]
  },
  {
   "cell_type": "markdown",
   "id": "21f60e51",
   "metadata": {
    "papermill": {
     "duration": 0.037127,
     "end_time": "2021-09-24T13:35:58.479374",
     "exception": false,
     "start_time": "2021-09-24T13:35:58.442247",
     "status": "completed"
    },
    "tags": []
   },
   "source": [
    "#### 2) Create Bag of Words (Count Vectorize)"
   ]
  },
  {
   "cell_type": "code",
   "execution_count": 9,
   "id": "6dd29972",
   "metadata": {
    "execution": {
     "iopub.execute_input": "2021-09-24T13:35:58.557211Z",
     "iopub.status.busy": "2021-09-24T13:35:58.556443Z",
     "iopub.status.idle": "2021-09-24T13:36:01.477782Z",
     "shell.execute_reply": "2021-09-24T13:36:01.477124Z",
     "shell.execute_reply.started": "2021-09-24T13:25:08.978600Z"
    },
    "papermill": {
     "duration": 2.961626,
     "end_time": "2021-09-24T13:36:01.477989",
     "exception": false,
     "start_time": "2021-09-24T13:35:58.516363",
     "status": "completed"
    },
    "tags": []
   },
   "outputs": [
    {
     "data": {
      "text/plain": [
       "(33000, 3128)"
      ]
     },
     "execution_count": 9,
     "metadata": {},
     "output_type": "execute_result"
    }
   ],
   "source": [
    "vec = CountVectorizer(max_features = 3128) #Important, use a fixed max_features in order to align with the test data.\n",
    "X = vec.fit_transform(data_list).toarray()\n",
    "X.shape "
   ]
  },
  {
   "cell_type": "markdown",
   "id": "fba2d7e2",
   "metadata": {
    "papermill": {
     "duration": 0.037568,
     "end_time": "2021-09-24T13:36:01.554111",
     "exception": false,
     "start_time": "2021-09-24T13:36:01.516543",
     "status": "completed"
    },
    "tags": []
   },
   "source": [
    "## Model Training and Evaluation"
   ]
  },
  {
   "cell_type": "markdown",
   "id": "a2811ef8",
   "metadata": {
    "papermill": {
     "duration": 0.037363,
     "end_time": "2021-09-24T13:36:01.629178",
     "exception": false,
     "start_time": "2021-09-24T13:36:01.591815",
     "status": "completed"
    },
    "tags": []
   },
   "source": [
    "#### 1) Train Test Split"
   ]
  },
  {
   "cell_type": "code",
   "execution_count": 10,
   "id": "df1492bd",
   "metadata": {
    "execution": {
     "iopub.execute_input": "2021-09-24T13:36:01.714061Z",
     "iopub.status.busy": "2021-09-24T13:36:01.713307Z",
     "iopub.status.idle": "2021-09-24T13:36:02.076556Z",
     "shell.execute_reply": "2021-09-24T13:36:02.075861Z",
     "shell.execute_reply.started": "2021-09-24T13:25:11.877059Z"
    },
    "papermill": {
     "duration": 0.409766,
     "end_time": "2021-09-24T13:36:02.076718",
     "exception": false,
     "start_time": "2021-09-24T13:36:01.666952",
     "status": "completed"
    },
    "tags": []
   },
   "outputs": [],
   "source": [
    "x_train, x_test, y_train, y_test = train_test_split(X, y, test_size = 0.20)"
   ]
  },
  {
   "cell_type": "code",
   "execution_count": 11,
   "id": "a968f9d4",
   "metadata": {
    "execution": {
     "iopub.execute_input": "2021-09-24T13:36:02.159080Z",
     "iopub.status.busy": "2021-09-24T13:36:02.158256Z",
     "iopub.status.idle": "2021-09-24T13:36:02.162004Z",
     "shell.execute_reply": "2021-09-24T13:36:02.161373Z",
     "shell.execute_reply.started": "2021-09-24T13:25:12.296733Z"
    },
    "papermill": {
     "duration": 0.047068,
     "end_time": "2021-09-24T13:36:02.162154",
     "exception": false,
     "start_time": "2021-09-24T13:36:02.115086",
     "status": "completed"
    },
    "tags": []
   },
   "outputs": [
    {
     "data": {
      "text/plain": [
       "(26400, 3128)"
      ]
     },
     "execution_count": 11,
     "metadata": {},
     "output_type": "execute_result"
    }
   ],
   "source": [
    "x_train.shape"
   ]
  },
  {
   "cell_type": "code",
   "execution_count": 12,
   "id": "1211488b",
   "metadata": {
    "execution": {
     "iopub.execute_input": "2021-09-24T13:36:02.243913Z",
     "iopub.status.busy": "2021-09-24T13:36:02.242967Z",
     "iopub.status.idle": "2021-09-24T13:36:02.246603Z",
     "shell.execute_reply": "2021-09-24T13:36:02.247115Z",
     "shell.execute_reply.started": "2021-09-24T13:25:12.304838Z"
    },
    "papermill": {
     "duration": 0.047194,
     "end_time": "2021-09-24T13:36:02.247292",
     "exception": false,
     "start_time": "2021-09-24T13:36:02.200098",
     "status": "completed"
    },
    "tags": []
   },
   "outputs": [
    {
     "data": {
      "text/plain": [
       "(26400,)"
      ]
     },
     "execution_count": 12,
     "metadata": {},
     "output_type": "execute_result"
    }
   ],
   "source": [
    "y_train.shape"
   ]
  },
  {
   "cell_type": "code",
   "execution_count": 13,
   "id": "33dfeb93",
   "metadata": {
    "execution": {
     "iopub.execute_input": "2021-09-24T13:36:02.326789Z",
     "iopub.status.busy": "2021-09-24T13:36:02.325793Z",
     "iopub.status.idle": "2021-09-24T13:36:02.332142Z",
     "shell.execute_reply": "2021-09-24T13:36:02.331485Z",
     "shell.execute_reply.started": "2021-09-24T13:25:12.316893Z"
    },
    "papermill": {
     "duration": 0.047649,
     "end_time": "2021-09-24T13:36:02.332280",
     "exception": false,
     "start_time": "2021-09-24T13:36:02.284631",
     "status": "completed"
    },
    "tags": []
   },
   "outputs": [
    {
     "data": {
      "text/plain": [
       "(6600, 3128)"
      ]
     },
     "execution_count": 13,
     "metadata": {},
     "output_type": "execute_result"
    }
   ],
   "source": [
    "x_test.shape"
   ]
  },
  {
   "cell_type": "code",
   "execution_count": 14,
   "id": "76cf8514",
   "metadata": {
    "execution": {
     "iopub.execute_input": "2021-09-24T13:36:02.412882Z",
     "iopub.status.busy": "2021-09-24T13:36:02.412044Z",
     "iopub.status.idle": "2021-09-24T13:36:02.415305Z",
     "shell.execute_reply": "2021-09-24T13:36:02.415809Z",
     "shell.execute_reply.started": "2021-09-24T13:25:12.327563Z"
    },
    "papermill": {
     "duration": 0.046153,
     "end_time": "2021-09-24T13:36:02.415984",
     "exception": false,
     "start_time": "2021-09-24T13:36:02.369831",
     "status": "completed"
    },
    "tags": []
   },
   "outputs": [
    {
     "data": {
      "text/plain": [
       "(6600,)"
      ]
     },
     "execution_count": 14,
     "metadata": {},
     "output_type": "execute_result"
    }
   ],
   "source": [
    "y_test.shape"
   ]
  },
  {
   "cell_type": "markdown",
   "id": "0eb8baae",
   "metadata": {
    "papermill": {
     "duration": 0.037531,
     "end_time": "2021-09-24T13:36:02.491283",
     "exception": false,
     "start_time": "2021-09-24T13:36:02.453752",
     "status": "completed"
    },
    "tags": []
   },
   "source": [
    "#### 2) Model Fit and Predict"
   ]
  },
  {
   "cell_type": "code",
   "execution_count": 15,
   "id": "f5987b8b",
   "metadata": {
    "execution": {
     "iopub.execute_input": "2021-09-24T13:36:02.572937Z",
     "iopub.status.busy": "2021-09-24T13:36:02.571967Z",
     "iopub.status.idle": "2021-09-24T13:36:08.520824Z",
     "shell.execute_reply": "2021-09-24T13:36:08.521442Z",
     "shell.execute_reply.started": "2021-09-24T13:25:12.339902Z"
    },
    "papermill": {
     "duration": 5.991695,
     "end_time": "2021-09-24T13:36:08.521642",
     "exception": false,
     "start_time": "2021-09-24T13:36:02.529947",
     "status": "completed"
    },
    "tags": []
   },
   "outputs": [
    {
     "data": {
      "text/plain": [
       "MultinomialNB()"
      ]
     },
     "execution_count": 15,
     "metadata": {},
     "output_type": "execute_result"
    }
   ],
   "source": [
    "model = MultinomialNB()\n",
    "model.fit(x_train, y_train)"
   ]
  },
  {
   "cell_type": "code",
   "execution_count": 16,
   "id": "95a95a5a",
   "metadata": {
    "execution": {
     "iopub.execute_input": "2021-09-24T13:36:08.604262Z",
     "iopub.status.busy": "2021-09-24T13:36:08.603598Z",
     "iopub.status.idle": "2021-09-24T13:36:08.739933Z",
     "shell.execute_reply": "2021-09-24T13:36:08.740770Z",
     "shell.execute_reply.started": "2021-09-24T13:25:18.382926Z"
    },
    "papermill": {
     "duration": 0.180513,
     "end_time": "2021-09-24T13:36:08.741067",
     "exception": false,
     "start_time": "2021-09-24T13:36:08.560554",
     "status": "completed"
    },
    "tags": []
   },
   "outputs": [],
   "source": [
    "y_pred = model.predict(x_test)"
   ]
  },
  {
   "cell_type": "markdown",
   "id": "93970fa5",
   "metadata": {
    "papermill": {
     "duration": 0.056765,
     "end_time": "2021-09-24T13:36:08.869941",
     "exception": false,
     "start_time": "2021-09-24T13:36:08.813176",
     "status": "completed"
    },
    "tags": []
   },
   "source": [
    "#### 3) Model Evaluation"
   ]
  },
  {
   "cell_type": "code",
   "execution_count": 17,
   "id": "595152fa",
   "metadata": {
    "execution": {
     "iopub.execute_input": "2021-09-24T13:36:08.956267Z",
     "iopub.status.busy": "2021-09-24T13:36:08.954986Z",
     "iopub.status.idle": "2021-09-24T13:36:08.976253Z",
     "shell.execute_reply": "2021-09-24T13:36:08.975682Z",
     "shell.execute_reply.started": "2021-09-24T13:25:18.533248Z"
    },
    "papermill": {
     "duration": 0.068146,
     "end_time": "2021-09-24T13:36:08.976419",
     "exception": false,
     "start_time": "2021-09-24T13:36:08.908273",
     "status": "completed"
    },
    "tags": []
   },
   "outputs": [],
   "source": [
    "evalute = metrics.classification_report(y_test, y_pred)"
   ]
  },
  {
   "cell_type": "code",
   "execution_count": 18,
   "id": "c47b7e37",
   "metadata": {
    "execution": {
     "iopub.execute_input": "2021-09-24T13:36:09.059049Z",
     "iopub.status.busy": "2021-09-24T13:36:09.058285Z",
     "iopub.status.idle": "2021-09-24T13:36:09.061531Z",
     "shell.execute_reply": "2021-09-24T13:36:09.062056Z",
     "shell.execute_reply.started": "2021-09-24T13:25:18.569457Z"
    },
    "papermill": {
     "duration": 0.047885,
     "end_time": "2021-09-24T13:36:09.062220",
     "exception": false,
     "start_time": "2021-09-24T13:36:09.014335",
     "status": "completed"
    },
    "tags": []
   },
   "outputs": [
    {
     "name": "stdout",
     "output_type": "stream",
     "text": [
      "              precision    recall  f1-score   support\n",
      "\n",
      "           0       1.00      1.00      1.00       609\n",
      "           1       1.00      1.00      1.00       597\n",
      "           2       0.98      0.99      0.99       559\n",
      "           3       1.00      1.00      1.00       638\n",
      "           4       1.00      1.00      1.00       571\n",
      "           5       1.00      1.00      1.00       582\n",
      "           6       1.00      1.00      1.00       603\n",
      "           7       1.00      1.00      1.00       609\n",
      "           8       1.00      1.00      1.00       604\n",
      "           9       0.99      0.99      0.99       607\n",
      "          10       0.99      0.98      0.99       621\n",
      "\n",
      "    accuracy                           1.00      6600\n",
      "   macro avg       1.00      1.00      1.00      6600\n",
      "weighted avg       1.00      1.00      1.00      6600\n",
      "\n"
     ]
    }
   ],
   "source": [
    "print(evalute)"
   ]
  },
  {
   "cell_type": "markdown",
   "id": "34f24c16",
   "metadata": {
    "papermill": {
     "duration": 0.038178,
     "end_time": "2021-09-24T13:36:09.138827",
     "exception": false,
     "start_time": "2021-09-24T13:36:09.100649",
     "status": "completed"
    },
    "tags": []
   },
   "source": [
    "## Prepare for Kaggle"
   ]
  },
  {
   "cell_type": "markdown",
   "id": "9700dcf9",
   "metadata": {
    "papermill": {
     "duration": 0.038156,
     "end_time": "2021-09-24T13:36:09.215320",
     "exception": false,
     "start_time": "2021-09-24T13:36:09.177164",
     "status": "completed"
    },
    "tags": []
   },
   "source": [
    "## Data "
   ]
  },
  {
   "cell_type": "markdown",
   "id": "d3d2ad29",
   "metadata": {
    "papermill": {
     "duration": 0.038403,
     "end_time": "2021-09-24T13:36:09.292126",
     "exception": false,
     "start_time": "2021-09-24T13:36:09.253723",
     "status": "completed"
    },
    "tags": []
   },
   "source": [
    "#### 1) Data Seperation (Predictors, Target) for the Training Set"
   ]
  },
  {
   "cell_type": "code",
   "execution_count": 19,
   "id": "23a78b26",
   "metadata": {
    "execution": {
     "iopub.execute_input": "2021-09-24T13:36:09.375261Z",
     "iopub.status.busy": "2021-09-24T13:36:09.374568Z",
     "iopub.status.idle": "2021-09-24T13:36:09.375832Z",
     "shell.execute_reply": "2021-09-24T13:36:09.376387Z",
     "shell.execute_reply.started": "2021-09-24T13:25:18.576981Z"
    },
    "papermill": {
     "duration": 0.04539,
     "end_time": "2021-09-24T13:36:09.376553",
     "exception": false,
     "start_time": "2021-09-24T13:36:09.331163",
     "status": "completed"
    },
    "tags": []
   },
   "outputs": [],
   "source": [
    "Xtest = test['text']"
   ]
  },
  {
   "cell_type": "markdown",
   "id": "aaa4f942",
   "metadata": {
    "papermill": {
     "duration": 0.038319,
     "end_time": "2021-09-24T13:36:09.455139",
     "exception": false,
     "start_time": "2021-09-24T13:36:09.416820",
     "status": "completed"
    },
    "tags": []
   },
   "source": [
    "## Preprocessing of the Text "
   ]
  },
  {
   "cell_type": "markdown",
   "id": "f826a9ab",
   "metadata": {
    "papermill": {
     "duration": 0.038962,
     "end_time": "2021-09-24T13:36:09.532752",
     "exception": false,
     "start_time": "2021-09-24T13:36:09.493790",
     "status": "completed"
    },
    "tags": []
   },
   "source": [
    "#### 1) Cleaning"
   ]
  },
  {
   "cell_type": "code",
   "execution_count": 20,
   "id": "a65317de",
   "metadata": {
    "execution": {
     "iopub.execute_input": "2021-09-24T13:36:09.645607Z",
     "iopub.status.busy": "2021-09-24T13:36:09.614413Z",
     "iopub.status.idle": "2021-09-24T13:36:09.683732Z",
     "shell.execute_reply": "2021-09-24T13:36:09.684240Z",
     "shell.execute_reply.started": "2021-09-24T13:25:18.592194Z"
    },
    "papermill": {
     "duration": 0.113023,
     "end_time": "2021-09-24T13:36:09.684502",
     "exception": false,
     "start_time": "2021-09-24T13:36:09.571479",
     "status": "completed"
    },
    "tags": []
   },
   "outputs": [],
   "source": [
    "data_list2 = []\n",
    "\n",
    "for text in Xtest:\n",
    "       # symbols + number removal\n",
    "        text = re.sub(r'[!@#$(),n\"%^*?:;~`0-9]', ' ', text)\n",
    "        text = re.sub(r'[[]]', ' ', text)\n",
    "        # lowercase\n",
    "        text = text.lower()\n",
    "        # appending to data_list\n",
    "        data_list2.append(text)"
   ]
  },
  {
   "cell_type": "code",
   "execution_count": 21,
   "id": "a22831d4",
   "metadata": {
    "execution": {
     "iopub.execute_input": "2021-09-24T13:36:09.768261Z",
     "iopub.status.busy": "2021-09-24T13:36:09.767422Z",
     "iopub.status.idle": "2021-09-24T13:36:09.770571Z",
     "shell.execute_reply": "2021-09-24T13:36:09.771143Z",
     "shell.execute_reply.started": "2021-09-24T13:25:18.686562Z"
    },
    "papermill": {
     "duration": 0.047627,
     "end_time": "2021-09-24T13:36:09.771322",
     "exception": false,
     "start_time": "2021-09-24T13:36:09.723695",
     "status": "completed"
    },
    "tags": []
   },
   "outputs": [
    {
     "data": {
      "text/plain": [
       "['mmasepala  fa maemo a a kgethegile g a letlelela kgato eo.',\n",
       " 'uzakwaziswa  gokufa eleko  aku gafu eka emi ye imitlolo e gezelelako ukuqedelela ukutloliswa kwesibawo sakho.']"
      ]
     },
     "execution_count": 21,
     "metadata": {},
     "output_type": "execute_result"
    }
   ],
   "source": [
    "data_list2[0:2]"
   ]
  },
  {
   "cell_type": "markdown",
   "id": "e228c086",
   "metadata": {
    "papermill": {
     "duration": 0.039312,
     "end_time": "2021-09-24T13:36:09.850585",
     "exception": false,
     "start_time": "2021-09-24T13:36:09.811273",
     "status": "completed"
    },
    "tags": []
   },
   "source": [
    "#### 2) Create Bag of Words (Count Vectorize)"
   ]
  },
  {
   "cell_type": "code",
   "execution_count": 22,
   "id": "a9633b37",
   "metadata": {
    "execution": {
     "iopub.execute_input": "2021-09-24T13:36:09.940064Z",
     "iopub.status.busy": "2021-09-24T13:36:09.939105Z",
     "iopub.status.idle": "2021-09-24T13:36:10.232402Z",
     "shell.execute_reply": "2021-09-24T13:36:10.232879Z",
     "shell.execute_reply.started": "2021-09-24T13:25:18.692283Z"
    },
    "papermill": {
     "duration": 0.342887,
     "end_time": "2021-09-24T13:36:10.233063",
     "exception": false,
     "start_time": "2021-09-24T13:36:09.890176",
     "status": "completed"
    },
    "tags": []
   },
   "outputs": [
    {
     "data": {
      "text/plain": [
       "(5682, 3128)"
      ]
     },
     "execution_count": 22,
     "metadata": {},
     "output_type": "execute_result"
    }
   ],
   "source": [
    "vec2 = vec.transform(data_list2)\n",
    "X_Test = vec2.toarray()\n",
    "X_Test.shape"
   ]
  },
  {
   "cell_type": "code",
   "execution_count": 23,
   "id": "ddb4fda3",
   "metadata": {
    "execution": {
     "iopub.execute_input": "2021-09-24T13:36:10.318984Z",
     "iopub.status.busy": "2021-09-24T13:36:10.318263Z",
     "iopub.status.idle": "2021-09-24T13:36:10.441262Z",
     "shell.execute_reply": "2021-09-24T13:36:10.442650Z",
     "shell.execute_reply.started": "2021-09-24T13:25:19.000282Z"
    },
    "papermill": {
     "duration": 0.169839,
     "end_time": "2021-09-24T13:36:10.442970",
     "exception": false,
     "start_time": "2021-09-24T13:36:10.273131",
     "status": "completed"
    },
    "tags": []
   },
   "outputs": [],
   "source": [
    "fin = model.predict(X_Test)"
   ]
  },
  {
   "cell_type": "code",
   "execution_count": 24,
   "id": "062ed602",
   "metadata": {
    "execution": {
     "iopub.execute_input": "2021-09-24T13:36:10.581428Z",
     "iopub.status.busy": "2021-09-24T13:36:10.580563Z",
     "iopub.status.idle": "2021-09-24T13:36:10.584288Z",
     "shell.execute_reply": "2021-09-24T13:36:10.583781Z",
     "shell.execute_reply.started": "2021-09-24T13:25:19.120479Z"
    },
    "papermill": {
     "duration": 0.067711,
     "end_time": "2021-09-24T13:36:10.584461",
     "exception": false,
     "start_time": "2021-09-24T13:36:10.516750",
     "status": "completed"
    },
    "tags": []
   },
   "outputs": [
    {
     "data": {
      "text/plain": [
       "array([6, 2, 8, ..., 4, 4, 2])"
      ]
     },
     "execution_count": 24,
     "metadata": {},
     "output_type": "execute_result"
    }
   ],
   "source": [
    "fin"
   ]
  },
  {
   "cell_type": "code",
   "execution_count": 25,
   "id": "8c83a7e2",
   "metadata": {
    "execution": {
     "iopub.execute_input": "2021-09-24T13:36:10.667016Z",
     "iopub.status.busy": "2021-09-24T13:36:10.666241Z",
     "iopub.status.idle": "2021-09-24T13:36:10.669426Z",
     "shell.execute_reply": "2021-09-24T13:36:10.670020Z",
     "shell.execute_reply.started": "2021-09-24T13:25:19.130966Z"
    },
    "papermill": {
     "duration": 0.046352,
     "end_time": "2021-09-24T13:36:10.670189",
     "exception": false,
     "start_time": "2021-09-24T13:36:10.623837",
     "status": "completed"
    },
    "tags": []
   },
   "outputs": [],
   "source": [
    "results = test.copy()"
   ]
  },
  {
   "cell_type": "code",
   "execution_count": 26,
   "id": "f9ea5237",
   "metadata": {
    "execution": {
     "iopub.execute_input": "2021-09-24T13:36:10.753860Z",
     "iopub.status.busy": "2021-09-24T13:36:10.753203Z",
     "iopub.status.idle": "2021-09-24T13:36:10.760880Z",
     "shell.execute_reply": "2021-09-24T13:36:10.761462Z",
     "shell.execute_reply.started": "2021-09-24T13:25:19.143153Z"
    },
    "papermill": {
     "duration": 0.050293,
     "end_time": "2021-09-24T13:36:10.761626",
     "exception": false,
     "start_time": "2021-09-24T13:36:10.711333",
     "status": "completed"
    },
    "tags": []
   },
   "outputs": [
    {
     "data": {
      "text/html": [
       "<div>\n",
       "<style scoped>\n",
       "    .dataframe tbody tr th:only-of-type {\n",
       "        vertical-align: middle;\n",
       "    }\n",
       "\n",
       "    .dataframe tbody tr th {\n",
       "        vertical-align: top;\n",
       "    }\n",
       "\n",
       "    .dataframe thead th {\n",
       "        text-align: right;\n",
       "    }\n",
       "</style>\n",
       "<table border=\"1\" class=\"dataframe\">\n",
       "  <thead>\n",
       "    <tr style=\"text-align: right;\">\n",
       "      <th></th>\n",
       "      <th>index</th>\n",
       "      <th>text</th>\n",
       "    </tr>\n",
       "  </thead>\n",
       "  <tbody>\n",
       "    <tr>\n",
       "      <th>0</th>\n",
       "      <td>1</td>\n",
       "      <td>Mmasepala, fa maemo a a kgethegileng a letlele...</td>\n",
       "    </tr>\n",
       "    <tr>\n",
       "      <th>1</th>\n",
       "      <td>2</td>\n",
       "      <td>Uzakwaziswa ngokufaneleko nakungafuneka eminye...</td>\n",
       "    </tr>\n",
       "    <tr>\n",
       "      <th>2</th>\n",
       "      <td>3</td>\n",
       "      <td>Tshivhumbeo tshi fana na ngano dza vhathu.</td>\n",
       "    </tr>\n",
       "    <tr>\n",
       "      <th>3</th>\n",
       "      <td>4</td>\n",
       "      <td>Kube inja nelikati betingevakala kutsi titsini...</td>\n",
       "    </tr>\n",
       "    <tr>\n",
       "      <th>4</th>\n",
       "      <td>5</td>\n",
       "      <td>Winste op buitelandse valuta.</td>\n",
       "    </tr>\n",
       "  </tbody>\n",
       "</table>\n",
       "</div>"
      ],
      "text/plain": [
       "   index                                               text\n",
       "0      1  Mmasepala, fa maemo a a kgethegileng a letlele...\n",
       "1      2  Uzakwaziswa ngokufaneleko nakungafuneka eminye...\n",
       "2      3         Tshivhumbeo tshi fana na ngano dza vhathu.\n",
       "3      4  Kube inja nelikati betingevakala kutsi titsini...\n",
       "4      5                      Winste op buitelandse valuta."
      ]
     },
     "execution_count": 26,
     "metadata": {},
     "output_type": "execute_result"
    }
   ],
   "source": [
    "results.head()"
   ]
  },
  {
   "cell_type": "code",
   "execution_count": 27,
   "id": "cfe827e3",
   "metadata": {
    "execution": {
     "iopub.execute_input": "2021-09-24T13:36:10.845330Z",
     "iopub.status.busy": "2021-09-24T13:36:10.844631Z",
     "iopub.status.idle": "2021-09-24T13:36:10.849389Z",
     "shell.execute_reply": "2021-09-24T13:36:10.849975Z",
     "shell.execute_reply.started": "2021-09-24T13:25:19.162542Z"
    },
    "papermill": {
     "duration": 0.048466,
     "end_time": "2021-09-24T13:36:10.850160",
     "exception": false,
     "start_time": "2021-09-24T13:36:10.801694",
     "status": "completed"
    },
    "tags": []
   },
   "outputs": [],
   "source": [
    "results['lang_id']=pd.Series(fin)"
   ]
  },
  {
   "cell_type": "code",
   "execution_count": 28,
   "id": "a1520c9e",
   "metadata": {
    "execution": {
     "iopub.execute_input": "2021-09-24T13:36:10.936815Z",
     "iopub.status.busy": "2021-09-24T13:36:10.936151Z",
     "iopub.status.idle": "2021-09-24T13:36:10.945442Z",
     "shell.execute_reply": "2021-09-24T13:36:10.944938Z",
     "shell.execute_reply.started": "2021-09-24T13:25:19.183408Z"
    },
    "papermill": {
     "duration": 0.05405,
     "end_time": "2021-09-24T13:36:10.945583",
     "exception": false,
     "start_time": "2021-09-24T13:36:10.891533",
     "status": "completed"
    },
    "tags": []
   },
   "outputs": [
    {
     "data": {
      "text/html": [
       "<div>\n",
       "<style scoped>\n",
       "    .dataframe tbody tr th:only-of-type {\n",
       "        vertical-align: middle;\n",
       "    }\n",
       "\n",
       "    .dataframe tbody tr th {\n",
       "        vertical-align: top;\n",
       "    }\n",
       "\n",
       "    .dataframe thead th {\n",
       "        text-align: right;\n",
       "    }\n",
       "</style>\n",
       "<table border=\"1\" class=\"dataframe\">\n",
       "  <thead>\n",
       "    <tr style=\"text-align: right;\">\n",
       "      <th></th>\n",
       "      <th>index</th>\n",
       "      <th>text</th>\n",
       "      <th>lang_id</th>\n",
       "    </tr>\n",
       "  </thead>\n",
       "  <tbody>\n",
       "    <tr>\n",
       "      <th>0</th>\n",
       "      <td>1</td>\n",
       "      <td>Mmasepala, fa maemo a a kgethegileng a letlele...</td>\n",
       "      <td>6</td>\n",
       "    </tr>\n",
       "    <tr>\n",
       "      <th>1</th>\n",
       "      <td>2</td>\n",
       "      <td>Uzakwaziswa ngokufaneleko nakungafuneka eminye...</td>\n",
       "      <td>2</td>\n",
       "    </tr>\n",
       "    <tr>\n",
       "      <th>2</th>\n",
       "      <td>3</td>\n",
       "      <td>Tshivhumbeo tshi fana na ngano dza vhathu.</td>\n",
       "      <td>8</td>\n",
       "    </tr>\n",
       "    <tr>\n",
       "      <th>3</th>\n",
       "      <td>4</td>\n",
       "      <td>Kube inja nelikati betingevakala kutsi titsini...</td>\n",
       "      <td>5</td>\n",
       "    </tr>\n",
       "    <tr>\n",
       "      <th>4</th>\n",
       "      <td>5</td>\n",
       "      <td>Winste op buitelandse valuta.</td>\n",
       "      <td>0</td>\n",
       "    </tr>\n",
       "  </tbody>\n",
       "</table>\n",
       "</div>"
      ],
      "text/plain": [
       "   index                                               text  lang_id\n",
       "0      1  Mmasepala, fa maemo a a kgethegileng a letlele...        6\n",
       "1      2  Uzakwaziswa ngokufaneleko nakungafuneka eminye...        2\n",
       "2      3         Tshivhumbeo tshi fana na ngano dza vhathu.        8\n",
       "3      4  Kube inja nelikati betingevakala kutsi titsini...        5\n",
       "4      5                      Winste op buitelandse valuta.        0"
      ]
     },
     "execution_count": 28,
     "metadata": {},
     "output_type": "execute_result"
    }
   ],
   "source": [
    "results.head()"
   ]
  },
  {
   "cell_type": "code",
   "execution_count": 29,
   "id": "5ecedff3",
   "metadata": {
    "execution": {
     "iopub.execute_input": "2021-09-24T13:36:11.033320Z",
     "iopub.status.busy": "2021-09-24T13:36:11.032582Z",
     "iopub.status.idle": "2021-09-24T13:36:11.035577Z",
     "shell.execute_reply": "2021-09-24T13:36:11.036125Z",
     "shell.execute_reply.started": "2021-09-24T13:25:19.200158Z"
    },
    "papermill": {
     "duration": 0.049059,
     "end_time": "2021-09-24T13:36:11.036291",
     "exception": false,
     "start_time": "2021-09-24T13:36:10.987232",
     "status": "completed"
    },
    "tags": []
   },
   "outputs": [],
   "source": [
    "results['lang_id'] = la.inverse_transform(results['lang_id'])"
   ]
  },
  {
   "cell_type": "code",
   "execution_count": 30,
   "id": "fc4328a9",
   "metadata": {
    "execution": {
     "iopub.execute_input": "2021-09-24T13:36:11.120721Z",
     "iopub.status.busy": "2021-09-24T13:36:11.120107Z",
     "iopub.status.idle": "2021-09-24T13:36:11.129407Z",
     "shell.execute_reply": "2021-09-24T13:36:11.129909Z",
     "shell.execute_reply.started": "2021-09-24T13:25:19.210206Z"
    },
    "papermill": {
     "duration": 0.052997,
     "end_time": "2021-09-24T13:36:11.130075",
     "exception": false,
     "start_time": "2021-09-24T13:36:11.077078",
     "status": "completed"
    },
    "tags": []
   },
   "outputs": [
    {
     "data": {
      "text/html": [
       "<div>\n",
       "<style scoped>\n",
       "    .dataframe tbody tr th:only-of-type {\n",
       "        vertical-align: middle;\n",
       "    }\n",
       "\n",
       "    .dataframe tbody tr th {\n",
       "        vertical-align: top;\n",
       "    }\n",
       "\n",
       "    .dataframe thead th {\n",
       "        text-align: right;\n",
       "    }\n",
       "</style>\n",
       "<table border=\"1\" class=\"dataframe\">\n",
       "  <thead>\n",
       "    <tr style=\"text-align: right;\">\n",
       "      <th></th>\n",
       "      <th>index</th>\n",
       "      <th>text</th>\n",
       "      <th>lang_id</th>\n",
       "    </tr>\n",
       "  </thead>\n",
       "  <tbody>\n",
       "    <tr>\n",
       "      <th>0</th>\n",
       "      <td>1</td>\n",
       "      <td>Mmasepala, fa maemo a a kgethegileng a letlele...</td>\n",
       "      <td>tsn</td>\n",
       "    </tr>\n",
       "    <tr>\n",
       "      <th>1</th>\n",
       "      <td>2</td>\n",
       "      <td>Uzakwaziswa ngokufaneleko nakungafuneka eminye...</td>\n",
       "      <td>nbl</td>\n",
       "    </tr>\n",
       "    <tr>\n",
       "      <th>2</th>\n",
       "      <td>3</td>\n",
       "      <td>Tshivhumbeo tshi fana na ngano dza vhathu.</td>\n",
       "      <td>ven</td>\n",
       "    </tr>\n",
       "    <tr>\n",
       "      <th>3</th>\n",
       "      <td>4</td>\n",
       "      <td>Kube inja nelikati betingevakala kutsi titsini...</td>\n",
       "      <td>ssw</td>\n",
       "    </tr>\n",
       "    <tr>\n",
       "      <th>4</th>\n",
       "      <td>5</td>\n",
       "      <td>Winste op buitelandse valuta.</td>\n",
       "      <td>afr</td>\n",
       "    </tr>\n",
       "  </tbody>\n",
       "</table>\n",
       "</div>"
      ],
      "text/plain": [
       "   index                                               text lang_id\n",
       "0      1  Mmasepala, fa maemo a a kgethegileng a letlele...     tsn\n",
       "1      2  Uzakwaziswa ngokufaneleko nakungafuneka eminye...     nbl\n",
       "2      3         Tshivhumbeo tshi fana na ngano dza vhathu.     ven\n",
       "3      4  Kube inja nelikati betingevakala kutsi titsini...     ssw\n",
       "4      5                      Winste op buitelandse valuta.     afr"
      ]
     },
     "execution_count": 30,
     "metadata": {},
     "output_type": "execute_result"
    }
   ],
   "source": [
    "results.head()"
   ]
  },
  {
   "cell_type": "code",
   "execution_count": 31,
   "id": "ba9e363f",
   "metadata": {
    "execution": {
     "iopub.execute_input": "2021-09-24T13:36:11.214714Z",
     "iopub.status.busy": "2021-09-24T13:36:11.214060Z",
     "iopub.status.idle": "2021-09-24T13:36:11.222646Z",
     "shell.execute_reply": "2021-09-24T13:36:11.222034Z",
     "shell.execute_reply.started": "2021-09-24T13:25:19.230065Z"
    },
    "papermill": {
     "duration": 0.052108,
     "end_time": "2021-09-24T13:36:11.222812",
     "exception": false,
     "start_time": "2021-09-24T13:36:11.170704",
     "status": "completed"
    },
    "tags": []
   },
   "outputs": [],
   "source": [
    "results = results.drop(['text'], axis=1)"
   ]
  },
  {
   "cell_type": "code",
   "execution_count": 32,
   "id": "cac52c08",
   "metadata": {
    "execution": {
     "iopub.execute_input": "2021-09-24T13:36:11.317804Z",
     "iopub.status.busy": "2021-09-24T13:36:11.316981Z",
     "iopub.status.idle": "2021-09-24T13:36:11.320275Z",
     "shell.execute_reply": "2021-09-24T13:36:11.320783Z",
     "shell.execute_reply.started": "2021-09-24T13:31:58.634914Z"
    },
    "papermill": {
     "duration": 0.057254,
     "end_time": "2021-09-24T13:36:11.320954",
     "exception": false,
     "start_time": "2021-09-24T13:36:11.263700",
     "status": "completed"
    },
    "tags": []
   },
   "outputs": [
    {
     "data": {
      "text/html": [
       "<div>\n",
       "<style scoped>\n",
       "    .dataframe tbody tr th:only-of-type {\n",
       "        vertical-align: middle;\n",
       "    }\n",
       "\n",
       "    .dataframe tbody tr th {\n",
       "        vertical-align: top;\n",
       "    }\n",
       "\n",
       "    .dataframe thead th {\n",
       "        text-align: right;\n",
       "    }\n",
       "</style>\n",
       "<table border=\"1\" class=\"dataframe\">\n",
       "  <thead>\n",
       "    <tr style=\"text-align: right;\">\n",
       "      <th></th>\n",
       "      <th>index</th>\n",
       "      <th>lang_id</th>\n",
       "    </tr>\n",
       "  </thead>\n",
       "  <tbody>\n",
       "    <tr>\n",
       "      <th>0</th>\n",
       "      <td>1</td>\n",
       "      <td>tsn</td>\n",
       "    </tr>\n",
       "    <tr>\n",
       "      <th>1</th>\n",
       "      <td>2</td>\n",
       "      <td>nbl</td>\n",
       "    </tr>\n",
       "    <tr>\n",
       "      <th>2</th>\n",
       "      <td>3</td>\n",
       "      <td>ven</td>\n",
       "    </tr>\n",
       "    <tr>\n",
       "      <th>3</th>\n",
       "      <td>4</td>\n",
       "      <td>ssw</td>\n",
       "    </tr>\n",
       "    <tr>\n",
       "      <th>4</th>\n",
       "      <td>5</td>\n",
       "      <td>afr</td>\n",
       "    </tr>\n",
       "    <tr>\n",
       "      <th>...</th>\n",
       "      <td>...</td>\n",
       "      <td>...</td>\n",
       "    </tr>\n",
       "    <tr>\n",
       "      <th>5677</th>\n",
       "      <td>5678</td>\n",
       "      <td>eng</td>\n",
       "    </tr>\n",
       "    <tr>\n",
       "      <th>5678</th>\n",
       "      <td>5679</td>\n",
       "      <td>nso</td>\n",
       "    </tr>\n",
       "    <tr>\n",
       "      <th>5679</th>\n",
       "      <td>5680</td>\n",
       "      <td>sot</td>\n",
       "    </tr>\n",
       "    <tr>\n",
       "      <th>5680</th>\n",
       "      <td>5681</td>\n",
       "      <td>sot</td>\n",
       "    </tr>\n",
       "    <tr>\n",
       "      <th>5681</th>\n",
       "      <td>5682</td>\n",
       "      <td>nbl</td>\n",
       "    </tr>\n",
       "  </tbody>\n",
       "</table>\n",
       "<p>5682 rows × 2 columns</p>\n",
       "</div>"
      ],
      "text/plain": [
       "      index lang_id\n",
       "0         1     tsn\n",
       "1         2     nbl\n",
       "2         3     ven\n",
       "3         4     ssw\n",
       "4         5     afr\n",
       "...     ...     ...\n",
       "5677   5678     eng\n",
       "5678   5679     nso\n",
       "5679   5680     sot\n",
       "5680   5681     sot\n",
       "5681   5682     nbl\n",
       "\n",
       "[5682 rows x 2 columns]"
      ]
     },
     "execution_count": 32,
     "metadata": {},
     "output_type": "execute_result"
    }
   ],
   "source": [
    "results"
   ]
  },
  {
   "cell_type": "code",
   "execution_count": 33,
   "id": "b4bde20d",
   "metadata": {
    "execution": {
     "iopub.execute_input": "2021-09-24T13:36:11.412970Z",
     "iopub.status.busy": "2021-09-24T13:36:11.412157Z",
     "iopub.status.idle": "2021-09-24T13:36:11.415351Z",
     "shell.execute_reply": "2021-09-24T13:36:11.415842Z",
     "shell.execute_reply.started": "2021-09-24T13:25:19.254538Z"
    },
    "papermill": {
     "duration": 0.053505,
     "end_time": "2021-09-24T13:36:11.416010",
     "exception": false,
     "start_time": "2021-09-24T13:36:11.362505",
     "status": "completed"
    },
    "tags": []
   },
   "outputs": [
    {
     "data": {
      "text/html": [
       "<div>\n",
       "<style scoped>\n",
       "    .dataframe tbody tr th:only-of-type {\n",
       "        vertical-align: middle;\n",
       "    }\n",
       "\n",
       "    .dataframe tbody tr th {\n",
       "        vertical-align: top;\n",
       "    }\n",
       "\n",
       "    .dataframe thead th {\n",
       "        text-align: right;\n",
       "    }\n",
       "</style>\n",
       "<table border=\"1\" class=\"dataframe\">\n",
       "  <thead>\n",
       "    <tr style=\"text-align: right;\">\n",
       "      <th></th>\n",
       "      <th>index</th>\n",
       "      <th>lang_id</th>\n",
       "    </tr>\n",
       "  </thead>\n",
       "  <tbody>\n",
       "    <tr>\n",
       "      <th>0</th>\n",
       "      <td>1</td>\n",
       "      <td>tsn</td>\n",
       "    </tr>\n",
       "    <tr>\n",
       "      <th>1</th>\n",
       "      <td>2</td>\n",
       "      <td>nbl</td>\n",
       "    </tr>\n",
       "  </tbody>\n",
       "</table>\n",
       "</div>"
      ],
      "text/plain": [
       "   index lang_id\n",
       "0      1     tsn\n",
       "1      2     nbl"
      ]
     },
     "execution_count": 33,
     "metadata": {},
     "output_type": "execute_result"
    }
   ],
   "source": [
    "sample_submission"
   ]
  },
  {
   "cell_type": "code",
   "execution_count": 34,
   "id": "8248b6db",
   "metadata": {
    "execution": {
     "iopub.execute_input": "2021-09-24T13:36:11.503966Z",
     "iopub.status.busy": "2021-09-24T13:36:11.503292Z",
     "iopub.status.idle": "2021-09-24T13:36:11.521742Z",
     "shell.execute_reply": "2021-09-24T13:36:11.521151Z",
     "shell.execute_reply.started": "2021-09-24T13:34:39.855444Z"
    },
    "papermill": {
     "duration": 0.064064,
     "end_time": "2021-09-24T13:36:11.521893",
     "exception": false,
     "start_time": "2021-09-24T13:36:11.457829",
     "status": "completed"
    },
    "tags": []
   },
   "outputs": [],
   "source": [
    "results.to_csv(\"solution_fin4.csv\", index=False)"
   ]
  }
 ],
 "metadata": {
  "kernelspec": {
   "display_name": "Python 3",
   "language": "python",
   "name": "python3"
  },
  "language_info": {
   "codemirror_mode": {
    "name": "ipython",
    "version": 3
   },
   "file_extension": ".py",
   "mimetype": "text/x-python",
   "name": "python",
   "nbconvert_exporter": "python",
   "pygments_lexer": "ipython3",
   "version": "3.7.10"
  },
  "papermill": {
   "default_parameters": {},
   "duration": 25.472902,
   "end_time": "2021-09-24T13:36:12.274408",
   "environment_variables": {},
   "exception": null,
   "input_path": "__notebook__.ipynb",
   "output_path": "__notebook__.ipynb",
   "parameters": {},
   "start_time": "2021-09-24T13:35:46.801506",
   "version": "2.3.3"
  }
 },
 "nbformat": 4,
 "nbformat_minor": 5
}
